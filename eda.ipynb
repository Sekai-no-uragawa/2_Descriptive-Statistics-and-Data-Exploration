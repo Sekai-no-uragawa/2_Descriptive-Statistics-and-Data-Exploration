{
 "cells": [
  {
   "cell_type": "markdown",
   "id": "25bf3802",
   "metadata": {},
   "source": [
    "**Import libraries**"
   ]
  },
  {
   "cell_type": "code",
   "execution_count": 1,
   "id": "b489cb9e",
   "metadata": {
    "ExecuteTime": {
     "end_time": "2022-03-02T19:07:21.030270Z",
     "start_time": "2022-03-02T19:07:14.429658Z"
    }
   },
   "outputs": [],
   "source": [
    "import pandas as pd\n",
    "pd.plotting.register_matplotlib_converters()\n",
    "import matplotlib.pyplot as plt\n",
    "%matplotlib inline\n",
    "import seaborn as sns"
   ]
  },
  {
   "cell_type": "markdown",
   "id": "03a1953e",
   "metadata": {},
   "source": [
    "**Import Data**"
   ]
  },
  {
   "cell_type": "code",
   "execution_count": 2,
   "id": "595b7ec5",
   "metadata": {
    "ExecuteTime": {
     "end_time": "2022-03-02T19:07:21.268725Z",
     "start_time": "2022-03-02T19:07:21.032263Z"
    }
   },
   "outputs": [],
   "source": [
    "my_filepath = 'train.csv'\n",
    "df = pd.read_csv(my_filepath, index_col='PassengerId')"
   ]
  },
  {
   "cell_type": "markdown",
   "id": "d07912a0",
   "metadata": {},
   "source": [
    "# Context"
   ]
  },
  {
   "cell_type": "markdown",
   "id": "b3144f06",
   "metadata": {},
   "source": [
    "Используемый набор данных является сгенерированным синтетически и основывается на реальных данных о пассажирах Титаника со схожими статистическими свойствами.\n",
    "\n",
    "«Тита́ник» (англ. Titanic) — британский трансатлантический пароход, второй лайнер класса «Олимпик» компании «White Star Line». Крупнейшее пассажирское судно в мировой истории в 1912—1913 годах. Во время первого рейса затонул в северной Атлантике, столкнувшись с айсбергом в ночь с 14 на 15 апреля 1912 года.\n",
    "\n",
    "10 апреля 1912 года «Титаник» отправился из **Саутгемптона** (**S**outhampton) в Нью-Йорк, в свой первый и единственный рейс. Совершив остановки во французском **Шербуре** (**C**herbourg) и ирландском **Квинстауне** (**Q**ueenstown), лайнер вышел в Атлантический океан.\n",
    "\n",
    "Каюты **первого** класса распологались на верхних палубах, **второго** класса - посередине, а **третьего** - на самых нижних палубах."
   ]
  },
  {
   "cell_type": "markdown",
   "id": "9b4320c6",
   "metadata": {},
   "source": [
    "# Data quality assessment"
   ]
  },
  {
   "cell_type": "markdown",
   "id": "6e2c4f3d",
   "metadata": {},
   "source": [
    "### **1.** Let’s take a look at our dataset "
   ]
  },
  {
   "cell_type": "code",
   "execution_count": 3,
   "id": "e6adafd8",
   "metadata": {
    "ExecuteTime": {
     "end_time": "2022-03-02T19:07:21.315320Z",
     "start_time": "2022-03-02T19:07:21.270722Z"
    }
   },
   "outputs": [
    {
     "data": {
      "text/html": [
       "<div>\n",
       "<style scoped>\n",
       "    .dataframe tbody tr th:only-of-type {\n",
       "        vertical-align: middle;\n",
       "    }\n",
       "\n",
       "    .dataframe tbody tr th {\n",
       "        vertical-align: top;\n",
       "    }\n",
       "\n",
       "    .dataframe thead th {\n",
       "        text-align: right;\n",
       "    }\n",
       "</style>\n",
       "<table border=\"1\" class=\"dataframe\">\n",
       "  <thead>\n",
       "    <tr style=\"text-align: right;\">\n",
       "      <th></th>\n",
       "      <th>Survived</th>\n",
       "      <th>Pclass</th>\n",
       "      <th>Name</th>\n",
       "      <th>Sex</th>\n",
       "      <th>Age</th>\n",
       "      <th>SibSp</th>\n",
       "      <th>Parch</th>\n",
       "      <th>Ticket</th>\n",
       "      <th>Fare</th>\n",
       "      <th>Cabin</th>\n",
       "      <th>Embarked</th>\n",
       "    </tr>\n",
       "    <tr>\n",
       "      <th>PassengerId</th>\n",
       "      <th></th>\n",
       "      <th></th>\n",
       "      <th></th>\n",
       "      <th></th>\n",
       "      <th></th>\n",
       "      <th></th>\n",
       "      <th></th>\n",
       "      <th></th>\n",
       "      <th></th>\n",
       "      <th></th>\n",
       "      <th></th>\n",
       "    </tr>\n",
       "  </thead>\n",
       "  <tbody>\n",
       "    <tr>\n",
       "      <th>0</th>\n",
       "      <td>1</td>\n",
       "      <td>1</td>\n",
       "      <td>Oconnor, Frankie</td>\n",
       "      <td>male</td>\n",
       "      <td>NaN</td>\n",
       "      <td>2</td>\n",
       "      <td>0</td>\n",
       "      <td>209245</td>\n",
       "      <td>27.14</td>\n",
       "      <td>C12239</td>\n",
       "      <td>S</td>\n",
       "    </tr>\n",
       "    <tr>\n",
       "      <th>1</th>\n",
       "      <td>0</td>\n",
       "      <td>3</td>\n",
       "      <td>Bryan, Drew</td>\n",
       "      <td>male</td>\n",
       "      <td>NaN</td>\n",
       "      <td>0</td>\n",
       "      <td>0</td>\n",
       "      <td>27323</td>\n",
       "      <td>13.35</td>\n",
       "      <td>NaN</td>\n",
       "      <td>S</td>\n",
       "    </tr>\n",
       "    <tr>\n",
       "      <th>2</th>\n",
       "      <td>0</td>\n",
       "      <td>3</td>\n",
       "      <td>Owens, Kenneth</td>\n",
       "      <td>male</td>\n",
       "      <td>0.33</td>\n",
       "      <td>1</td>\n",
       "      <td>2</td>\n",
       "      <td>CA 457703</td>\n",
       "      <td>71.29</td>\n",
       "      <td>NaN</td>\n",
       "      <td>S</td>\n",
       "    </tr>\n",
       "    <tr>\n",
       "      <th>3</th>\n",
       "      <td>0</td>\n",
       "      <td>3</td>\n",
       "      <td>Kramer, James</td>\n",
       "      <td>male</td>\n",
       "      <td>19.00</td>\n",
       "      <td>0</td>\n",
       "      <td>0</td>\n",
       "      <td>A. 10866</td>\n",
       "      <td>13.04</td>\n",
       "      <td>NaN</td>\n",
       "      <td>S</td>\n",
       "    </tr>\n",
       "    <tr>\n",
       "      <th>4</th>\n",
       "      <td>1</td>\n",
       "      <td>3</td>\n",
       "      <td>Bond, Michael</td>\n",
       "      <td>male</td>\n",
       "      <td>25.00</td>\n",
       "      <td>0</td>\n",
       "      <td>0</td>\n",
       "      <td>427635</td>\n",
       "      <td>7.76</td>\n",
       "      <td>NaN</td>\n",
       "      <td>S</td>\n",
       "    </tr>\n",
       "    <tr>\n",
       "      <th>...</th>\n",
       "      <td>...</td>\n",
       "      <td>...</td>\n",
       "      <td>...</td>\n",
       "      <td>...</td>\n",
       "      <td>...</td>\n",
       "      <td>...</td>\n",
       "      <td>...</td>\n",
       "      <td>...</td>\n",
       "      <td>...</td>\n",
       "      <td>...</td>\n",
       "      <td>...</td>\n",
       "    </tr>\n",
       "    <tr>\n",
       "      <th>99995</th>\n",
       "      <td>1</td>\n",
       "      <td>2</td>\n",
       "      <td>Bell, Adele</td>\n",
       "      <td>female</td>\n",
       "      <td>62.00</td>\n",
       "      <td>0</td>\n",
       "      <td>0</td>\n",
       "      <td>PC 15008</td>\n",
       "      <td>14.86</td>\n",
       "      <td>D17243</td>\n",
       "      <td>C</td>\n",
       "    </tr>\n",
       "    <tr>\n",
       "      <th>99996</th>\n",
       "      <td>0</td>\n",
       "      <td>2</td>\n",
       "      <td>Brown, Herman</td>\n",
       "      <td>male</td>\n",
       "      <td>66.00</td>\n",
       "      <td>0</td>\n",
       "      <td>0</td>\n",
       "      <td>13273</td>\n",
       "      <td>11.15</td>\n",
       "      <td>NaN</td>\n",
       "      <td>S</td>\n",
       "    </tr>\n",
       "    <tr>\n",
       "      <th>99997</th>\n",
       "      <td>0</td>\n",
       "      <td>3</td>\n",
       "      <td>Childress, Charles</td>\n",
       "      <td>male</td>\n",
       "      <td>37.00</td>\n",
       "      <td>0</td>\n",
       "      <td>0</td>\n",
       "      <td>NaN</td>\n",
       "      <td>9.95</td>\n",
       "      <td>NaN</td>\n",
       "      <td>S</td>\n",
       "    </tr>\n",
       "    <tr>\n",
       "      <th>99998</th>\n",
       "      <td>0</td>\n",
       "      <td>3</td>\n",
       "      <td>Caughlin, Thomas</td>\n",
       "      <td>male</td>\n",
       "      <td>51.00</td>\n",
       "      <td>0</td>\n",
       "      <td>1</td>\n",
       "      <td>458654</td>\n",
       "      <td>30.92</td>\n",
       "      <td>NaN</td>\n",
       "      <td>S</td>\n",
       "    </tr>\n",
       "    <tr>\n",
       "      <th>99999</th>\n",
       "      <td>0</td>\n",
       "      <td>3</td>\n",
       "      <td>Enciso, Tyler</td>\n",
       "      <td>male</td>\n",
       "      <td>55.00</td>\n",
       "      <td>0</td>\n",
       "      <td>0</td>\n",
       "      <td>458074</td>\n",
       "      <td>13.96</td>\n",
       "      <td>NaN</td>\n",
       "      <td>S</td>\n",
       "    </tr>\n",
       "  </tbody>\n",
       "</table>\n",
       "<p>100000 rows × 11 columns</p>\n",
       "</div>"
      ],
      "text/plain": [
       "             Survived  Pclass                Name     Sex    Age  SibSp  \\\n",
       "PassengerId                                                               \n",
       "0                   1       1    Oconnor, Frankie    male    NaN      2   \n",
       "1                   0       3         Bryan, Drew    male    NaN      0   \n",
       "2                   0       3      Owens, Kenneth    male   0.33      1   \n",
       "3                   0       3       Kramer, James    male  19.00      0   \n",
       "4                   1       3       Bond, Michael    male  25.00      0   \n",
       "...               ...     ...                 ...     ...    ...    ...   \n",
       "99995               1       2         Bell, Adele  female  62.00      0   \n",
       "99996               0       2       Brown, Herman    male  66.00      0   \n",
       "99997               0       3  Childress, Charles    male  37.00      0   \n",
       "99998               0       3    Caughlin, Thomas    male  51.00      0   \n",
       "99999               0       3       Enciso, Tyler    male  55.00      0   \n",
       "\n",
       "             Parch     Ticket   Fare   Cabin Embarked  \n",
       "PassengerId                                            \n",
       "0                0     209245  27.14  C12239        S  \n",
       "1                0      27323  13.35     NaN        S  \n",
       "2                2  CA 457703  71.29     NaN        S  \n",
       "3                0   A. 10866  13.04     NaN        S  \n",
       "4                0     427635   7.76     NaN        S  \n",
       "...            ...        ...    ...     ...      ...  \n",
       "99995            0   PC 15008  14.86  D17243        C  \n",
       "99996            0      13273  11.15     NaN        S  \n",
       "99997            0        NaN   9.95     NaN        S  \n",
       "99998            1     458654  30.92     NaN        S  \n",
       "99999            0     458074  13.96     NaN        S  \n",
       "\n",
       "[100000 rows x 11 columns]"
      ]
     },
     "execution_count": 3,
     "metadata": {},
     "output_type": "execute_result"
    }
   ],
   "source": [
    "df"
   ]
  },
  {
   "cell_type": "code",
   "execution_count": 4,
   "id": "1b651999",
   "metadata": {
    "ExecuteTime": {
     "end_time": "2022-03-02T19:07:21.331213Z",
     "start_time": "2022-03-02T19:07:21.319246Z"
    }
   },
   "outputs": [
    {
     "name": "stdout",
     "output_type": "stream",
     "text": [
      "Приведенная таблица имеет размер: 100000 строк и 11 колонок, колонка PassengerId использована в качестве индекса\n"
     ]
    }
   ],
   "source": [
    "a, b = df.shape\n",
    "print('Приведенная таблица имеет размер:', a, 'строк и', b, 'колонок, колонка PassengerId использована в качестве индекса')"
   ]
  },
  {
   "cell_type": "markdown",
   "id": "67a27fac",
   "metadata": {},
   "source": [
    "### **2.** Проверим недостающие значения и типы наших данных"
   ]
  },
  {
   "cell_type": "code",
   "execution_count": 5,
   "id": "6f5da0af",
   "metadata": {
    "ExecuteTime": {
     "end_time": "2022-03-02T19:07:21.379087Z",
     "start_time": "2022-03-02T19:07:21.335203Z"
    }
   },
   "outputs": [
    {
     "name": "stdout",
     "output_type": "stream",
     "text": [
      "<class 'pandas.core.frame.DataFrame'>\n",
      "Int64Index: 100000 entries, 0 to 99999\n",
      "Data columns (total 11 columns):\n",
      " #   Column    Non-Null Count   Dtype  \n",
      "---  ------    --------------   -----  \n",
      " 0   Survived  100000 non-null  int64  \n",
      " 1   Pclass    100000 non-null  int64  \n",
      " 2   Name      100000 non-null  object \n",
      " 3   Sex       100000 non-null  object \n",
      " 4   Age       96708 non-null   float64\n",
      " 5   SibSp     100000 non-null  int64  \n",
      " 6   Parch     100000 non-null  int64  \n",
      " 7   Ticket    95377 non-null   object \n",
      " 8   Fare      99866 non-null   float64\n",
      " 9   Cabin     32134 non-null   object \n",
      " 10  Embarked  99750 non-null   object \n",
      "dtypes: float64(2), int64(4), object(5)\n",
      "memory usage: 9.2+ MB\n"
     ]
    }
   ],
   "source": [
    "df.info()"
   ]
  },
  {
   "cell_type": "markdown",
   "id": "7d00d6e3",
   "metadata": {},
   "source": [
    "В данных имеются пропущенные начения\n",
    "\n",
    "В таблице имеются следующие типы данных: float64(2), int64(4), object(5)"
   ]
  },
  {
   "cell_type": "markdown",
   "id": "7c371068",
   "metadata": {},
   "source": [
    "### **3.** Узнаем колличество пропущенных значений в данных."
   ]
  },
  {
   "cell_type": "code",
   "execution_count": 6,
   "id": "24851843",
   "metadata": {
    "ExecuteTime": {
     "end_time": "2022-03-02T19:07:21.426958Z",
     "start_time": "2022-03-02T19:07:21.382078Z"
    }
   },
   "outputs": [
    {
     "data": {
      "text/plain": [
       "Survived        0\n",
       "Pclass          0\n",
       "Name            0\n",
       "Sex             0\n",
       "Age          3292\n",
       "SibSp           0\n",
       "Parch           0\n",
       "Ticket       4623\n",
       "Fare          134\n",
       "Cabin       67866\n",
       "Embarked      250\n",
       "dtype: int64"
      ]
     },
     "execution_count": 6,
     "metadata": {},
     "output_type": "execute_result"
    }
   ],
   "source": [
    "df.isna().sum()"
   ]
  },
  {
   "cell_type": "code",
   "execution_count": 7,
   "id": "a80abc9d",
   "metadata": {
    "ExecuteTime": {
     "end_time": "2022-03-02T19:07:21.474877Z",
     "start_time": "2022-03-02T19:07:21.429950Z"
    }
   },
   "outputs": [
    {
     "name": "stdout",
     "output_type": "stream",
     "text": [
      "6.924 % - процентов всех данных пропущено\n"
     ]
    }
   ],
   "source": [
    "print((df.isna().sum().sum() / 11000).round(3),'% - процентов всех данных пропущено')"
   ]
  },
  {
   "cell_type": "code",
   "execution_count": 18,
   "id": "2de8c6dc",
   "metadata": {
    "ExecuteTime": {
     "end_time": "2022-03-02T19:08:31.991203Z",
     "start_time": "2022-03-02T19:08:31.782723Z"
    }
   },
   "outputs": [
    {
     "data": {
      "text/plain": [
       "<AxesSubplot:>"
      ]
     },
     "execution_count": 18,
     "metadata": {},
     "output_type": "execute_result"
    },
    {
     "data": {
      "image/png": "[encoded data removed]",
      "text/plain": [
       "<Figure size 1008x432 with 1 Axes>"
      ]
     },
     "metadata": {
      "needs_background": "light"
     },
     "output_type": "display_data"
    }
   ],
   "source": [
    "new_df = df\n",
    "new_df = new_df.notnull().sum()\n",
    "plt.figure(figsize=(14,6))\n",
    "sns.barplot(y=new_df.values, x=new_df.index, color='gray', )"
   ]
  },
  {
   "cell_type": "markdown",
   "id": "d2b63542",
   "metadata": {},
   "source": [
    "Пропуски меются в стобцах Age, Ticket, Fare, Cabin, Embarked. Данных из столбца **Cabin** имеется только треть"
   ]
  },
  {
   "cell_type": "markdown",
   "id": "fb6f05e6",
   "metadata": {},
   "source": [
    "### **4.** Проверка на дубликаты"
   ]
  },
  {
   "cell_type": "code",
   "execution_count": 9,
   "id": "0f5ba32f",
   "metadata": {
    "ExecuteTime": {
     "end_time": "2022-03-02T19:07:21.855017Z",
     "start_time": "2022-03-02T19:07:21.730292Z"
    }
   },
   "outputs": [
    {
     "data": {
      "text/plain": [
       "0"
      ]
     },
     "execution_count": 9,
     "metadata": {},
     "output_type": "execute_result"
    }
   ],
   "source": [
    "df.duplicated().sum()"
   ]
  },
  {
   "cell_type": "markdown",
   "id": "851608f5",
   "metadata": {},
   "source": [
    "### **5.** Проверка соответсвия колонок нужным типам."
   ]
  },
  {
   "cell_type": "code",
   "execution_count": 10,
   "id": "f204fcad",
   "metadata": {
    "ExecuteTime": {
     "end_time": "2022-03-02T19:07:21.918847Z",
     "start_time": "2022-03-02T19:07:21.859007Z"
    }
   },
   "outputs": [
    {
     "data": {
      "text/plain": [
       "A/5            602\n",
       "C.A.           177\n",
       "SC/PARIS       145\n",
       "SOTON/O.Q.      80\n",
       "SC              57\n",
       "W./C.           53\n",
       "A/5.            40\n",
       "W.E.P.          23\n",
       "CA              22\n",
       "STON/O2.        21\n",
       "Name: Ticket, dtype: int64"
      ]
     },
     "execution_count": 10,
     "metadata": {},
     "output_type": "execute_result"
    }
   ],
   "source": [
    "df['Ticket'].value_counts().head(10)"
   ]
  },
  {
   "cell_type": "code",
   "execution_count": 11,
   "id": "b8757d5d",
   "metadata": {
    "ExecuteTime": {
     "end_time": "2022-03-02T19:07:21.997709Z",
     "start_time": "2022-03-02T19:07:21.920843Z"
    }
   },
   "outputs": [
    {
     "data": {
      "text/html": [
       "<div>\n",
       "<style scoped>\n",
       "    .dataframe tbody tr th:only-of-type {\n",
       "        vertical-align: middle;\n",
       "    }\n",
       "\n",
       "    .dataframe tbody tr th {\n",
       "        vertical-align: top;\n",
       "    }\n",
       "\n",
       "    .dataframe thead th {\n",
       "        text-align: right;\n",
       "    }\n",
       "</style>\n",
       "<table border=\"1\" class=\"dataframe\">\n",
       "  <thead>\n",
       "    <tr style=\"text-align: right;\">\n",
       "      <th></th>\n",
       "      <th>Survived</th>\n",
       "      <th>Pclass</th>\n",
       "      <th>Name</th>\n",
       "      <th>Sex</th>\n",
       "      <th>Age</th>\n",
       "      <th>SibSp</th>\n",
       "      <th>Parch</th>\n",
       "      <th>Ticket</th>\n",
       "      <th>Fare</th>\n",
       "      <th>Cabin</th>\n",
       "      <th>Embarked</th>\n",
       "    </tr>\n",
       "    <tr>\n",
       "      <th>PassengerId</th>\n",
       "      <th></th>\n",
       "      <th></th>\n",
       "      <th></th>\n",
       "      <th></th>\n",
       "      <th></th>\n",
       "      <th></th>\n",
       "      <th></th>\n",
       "      <th></th>\n",
       "      <th></th>\n",
       "      <th></th>\n",
       "      <th></th>\n",
       "    </tr>\n",
       "  </thead>\n",
       "  <tbody>\n",
       "  </tbody>\n",
       "</table>\n",
       "</div>"
      ],
      "text/plain": [
       "Empty DataFrame\n",
       "Columns: [Survived, Pclass, Name, Sex, Age, SibSp, Parch, Ticket, Fare, Cabin, Embarked]\n",
       "Index: []"
      ]
     },
     "execution_count": 11,
     "metadata": {},
     "output_type": "execute_result"
    }
   ],
   "source": [
    "df[df['Name'].str.match(r'(\\d+)')==True]"
   ]
  },
  {
   "cell_type": "code",
   "execution_count": 12,
   "id": "589fd035",
   "metadata": {
    "ExecuteTime": {
     "end_time": "2022-03-02T19:07:22.060474Z",
     "start_time": "2022-03-02T19:07:22.000634Z"
    }
   },
   "outputs": [
    {
     "data": {
      "text/html": [
       "<div>\n",
       "<style scoped>\n",
       "    .dataframe tbody tr th:only-of-type {\n",
       "        vertical-align: middle;\n",
       "    }\n",
       "\n",
       "    .dataframe tbody tr th {\n",
       "        vertical-align: top;\n",
       "    }\n",
       "\n",
       "    .dataframe thead th {\n",
       "        text-align: right;\n",
       "    }\n",
       "</style>\n",
       "<table border=\"1\" class=\"dataframe\">\n",
       "  <thead>\n",
       "    <tr style=\"text-align: right;\">\n",
       "      <th></th>\n",
       "      <th>Survived</th>\n",
       "      <th>Pclass</th>\n",
       "      <th>Name</th>\n",
       "      <th>Sex</th>\n",
       "      <th>Age</th>\n",
       "      <th>SibSp</th>\n",
       "      <th>Parch</th>\n",
       "      <th>Ticket</th>\n",
       "      <th>Fare</th>\n",
       "      <th>Cabin</th>\n",
       "    </tr>\n",
       "    <tr>\n",
       "      <th>Embarked</th>\n",
       "      <th></th>\n",
       "      <th></th>\n",
       "      <th></th>\n",
       "      <th></th>\n",
       "      <th></th>\n",
       "      <th></th>\n",
       "      <th></th>\n",
       "      <th></th>\n",
       "      <th></th>\n",
       "      <th></th>\n",
       "    </tr>\n",
       "  </thead>\n",
       "  <tbody>\n",
       "    <tr>\n",
       "      <th>C</th>\n",
       "      <td>22187</td>\n",
       "      <td>22187</td>\n",
       "      <td>22187</td>\n",
       "      <td>22187</td>\n",
       "      <td>21456</td>\n",
       "      <td>22187</td>\n",
       "      <td>22187</td>\n",
       "      <td>21949</td>\n",
       "      <td>22154</td>\n",
       "      <td>12979</td>\n",
       "    </tr>\n",
       "    <tr>\n",
       "      <th>Q</th>\n",
       "      <td>5424</td>\n",
       "      <td>5424</td>\n",
       "      <td>5424</td>\n",
       "      <td>5424</td>\n",
       "      <td>5237</td>\n",
       "      <td>5424</td>\n",
       "      <td>5424</td>\n",
       "      <td>5369</td>\n",
       "      <td>5416</td>\n",
       "      <td>4022</td>\n",
       "    </tr>\n",
       "    <tr>\n",
       "      <th>S</th>\n",
       "      <td>72139</td>\n",
       "      <td>72139</td>\n",
       "      <td>72139</td>\n",
       "      <td>72139</td>\n",
       "      <td>69767</td>\n",
       "      <td>72139</td>\n",
       "      <td>72139</td>\n",
       "      <td>67818</td>\n",
       "      <td>72047</td>\n",
       "      <td>15045</td>\n",
       "    </tr>\n",
       "  </tbody>\n",
       "</table>\n",
       "</div>"
      ],
      "text/plain": [
       "          Survived  Pclass   Name    Sex    Age  SibSp  Parch  Ticket   Fare  \\\n",
       "Embarked                                                                       \n",
       "C            22187   22187  22187  22187  21456  22187  22187   21949  22154   \n",
       "Q             5424    5424   5424   5424   5237   5424   5424    5369   5416   \n",
       "S            72139   72139  72139  72139  69767  72139  72139   67818  72047   \n",
       "\n",
       "          Cabin  \n",
       "Embarked         \n",
       "C         12979  \n",
       "Q          4022  \n",
       "S         15045  "
      ]
     },
     "execution_count": 12,
     "metadata": {},
     "output_type": "execute_result"
    }
   ],
   "source": [
    "df.groupby('Embarked').count()"
   ]
  },
  {
   "cell_type": "code",
   "execution_count": 13,
   "id": "56cdfb5e",
   "metadata": {
    "ExecuteTime": {
     "end_time": "2022-03-02T19:07:22.124344Z",
     "start_time": "2022-03-02T19:07:22.062469Z"
    }
   },
   "outputs": [
    {
     "data": {
      "text/html": [
       "<div>\n",
       "<style scoped>\n",
       "    .dataframe tbody tr th:only-of-type {\n",
       "        vertical-align: middle;\n",
       "    }\n",
       "\n",
       "    .dataframe tbody tr th {\n",
       "        vertical-align: top;\n",
       "    }\n",
       "\n",
       "    .dataframe thead th {\n",
       "        text-align: right;\n",
       "    }\n",
       "</style>\n",
       "<table border=\"1\" class=\"dataframe\">\n",
       "  <thead>\n",
       "    <tr style=\"text-align: right;\">\n",
       "      <th></th>\n",
       "      <th>Survived</th>\n",
       "      <th>Pclass</th>\n",
       "      <th>Name</th>\n",
       "      <th>Age</th>\n",
       "      <th>SibSp</th>\n",
       "      <th>Parch</th>\n",
       "      <th>Ticket</th>\n",
       "      <th>Fare</th>\n",
       "      <th>Cabin</th>\n",
       "      <th>Embarked</th>\n",
       "    </tr>\n",
       "    <tr>\n",
       "      <th>Sex</th>\n",
       "      <th></th>\n",
       "      <th></th>\n",
       "      <th></th>\n",
       "      <th></th>\n",
       "      <th></th>\n",
       "      <th></th>\n",
       "      <th></th>\n",
       "      <th></th>\n",
       "      <th></th>\n",
       "      <th></th>\n",
       "    </tr>\n",
       "  </thead>\n",
       "  <tbody>\n",
       "    <tr>\n",
       "      <th>female</th>\n",
       "      <td>43886</td>\n",
       "      <td>43886</td>\n",
       "      <td>43886</td>\n",
       "      <td>42501</td>\n",
       "      <td>43886</td>\n",
       "      <td>43886</td>\n",
       "      <td>41246</td>\n",
       "      <td>43827</td>\n",
       "      <td>18156</td>\n",
       "      <td>43755</td>\n",
       "    </tr>\n",
       "    <tr>\n",
       "      <th>male</th>\n",
       "      <td>56114</td>\n",
       "      <td>56114</td>\n",
       "      <td>56114</td>\n",
       "      <td>54207</td>\n",
       "      <td>56114</td>\n",
       "      <td>56114</td>\n",
       "      <td>54131</td>\n",
       "      <td>56039</td>\n",
       "      <td>13978</td>\n",
       "      <td>55995</td>\n",
       "    </tr>\n",
       "  </tbody>\n",
       "</table>\n",
       "</div>"
      ],
      "text/plain": [
       "        Survived  Pclass   Name    Age  SibSp  Parch  Ticket   Fare  Cabin  \\\n",
       "Sex                                                                          \n",
       "female     43886   43886  43886  42501  43886  43886   41246  43827  18156   \n",
       "male       56114   56114  56114  54207  56114  56114   54131  56039  13978   \n",
       "\n",
       "        Embarked  \n",
       "Sex               \n",
       "female     43755  \n",
       "male       55995  "
      ]
     },
     "execution_count": 13,
     "metadata": {},
     "output_type": "execute_result"
    }
   ],
   "source": [
    "df.groupby('Sex').count()"
   ]
  },
  {
   "cell_type": "code",
   "execution_count": 14,
   "id": "0d0a1e90",
   "metadata": {
    "ExecuteTime": {
     "end_time": "2022-03-02T19:07:22.187134Z",
     "start_time": "2022-03-02T19:07:22.126298Z"
    }
   },
   "outputs": [
    {
     "data": {
      "text/html": [
       "<div>\n",
       "<style scoped>\n",
       "    .dataframe tbody tr th:only-of-type {\n",
       "        vertical-align: middle;\n",
       "    }\n",
       "\n",
       "    .dataframe tbody tr th {\n",
       "        vertical-align: top;\n",
       "    }\n",
       "\n",
       "    .dataframe thead th {\n",
       "        text-align: right;\n",
       "    }\n",
       "</style>\n",
       "<table border=\"1\" class=\"dataframe\">\n",
       "  <thead>\n",
       "    <tr style=\"text-align: right;\">\n",
       "      <th></th>\n",
       "      <th>Survived</th>\n",
       "      <th>Name</th>\n",
       "      <th>Sex</th>\n",
       "      <th>Age</th>\n",
       "      <th>SibSp</th>\n",
       "      <th>Parch</th>\n",
       "      <th>Ticket</th>\n",
       "      <th>Fare</th>\n",
       "      <th>Cabin</th>\n",
       "      <th>Embarked</th>\n",
       "    </tr>\n",
       "    <tr>\n",
       "      <th>Pclass</th>\n",
       "      <th></th>\n",
       "      <th></th>\n",
       "      <th></th>\n",
       "      <th></th>\n",
       "      <th></th>\n",
       "      <th></th>\n",
       "      <th></th>\n",
       "      <th></th>\n",
       "      <th></th>\n",
       "      <th></th>\n",
       "    </tr>\n",
       "  </thead>\n",
       "  <tbody>\n",
       "    <tr>\n",
       "      <th>1</th>\n",
       "      <td>30315</td>\n",
       "      <td>30315</td>\n",
       "      <td>30315</td>\n",
       "      <td>29353</td>\n",
       "      <td>30315</td>\n",
       "      <td>30315</td>\n",
       "      <td>30288</td>\n",
       "      <td>30275</td>\n",
       "      <td>26463</td>\n",
       "      <td>30229</td>\n",
       "    </tr>\n",
       "    <tr>\n",
       "      <th>2</th>\n",
       "      <td>28679</td>\n",
       "      <td>28679</td>\n",
       "      <td>28679</td>\n",
       "      <td>27731</td>\n",
       "      <td>28679</td>\n",
       "      <td>28679</td>\n",
       "      <td>27855</td>\n",
       "      <td>28637</td>\n",
       "      <td>3520</td>\n",
       "      <td>28609</td>\n",
       "    </tr>\n",
       "    <tr>\n",
       "      <th>3</th>\n",
       "      <td>41006</td>\n",
       "      <td>41006</td>\n",
       "      <td>41006</td>\n",
       "      <td>39624</td>\n",
       "      <td>41006</td>\n",
       "      <td>41006</td>\n",
       "      <td>37234</td>\n",
       "      <td>40954</td>\n",
       "      <td>2151</td>\n",
       "      <td>40912</td>\n",
       "    </tr>\n",
       "  </tbody>\n",
       "</table>\n",
       "</div>"
      ],
      "text/plain": [
       "        Survived   Name    Sex    Age  SibSp  Parch  Ticket   Fare  Cabin  \\\n",
       "Pclass                                                                      \n",
       "1          30315  30315  30315  29353  30315  30315   30288  30275  26463   \n",
       "2          28679  28679  28679  27731  28679  28679   27855  28637   3520   \n",
       "3          41006  41006  41006  39624  41006  41006   37234  40954   2151   \n",
       "\n",
       "        Embarked  \n",
       "Pclass            \n",
       "1          30229  \n",
       "2          28609  \n",
       "3          40912  "
      ]
     },
     "execution_count": 14,
     "metadata": {},
     "output_type": "execute_result"
    }
   ],
   "source": [
    "df.groupby('Pclass').count()"
   ]
  },
  {
   "cell_type": "markdown",
   "id": "9ac18bf6",
   "metadata": {},
   "source": [
    "Данных в колонке **Cabin** присутствует лишь треть. Категориальные признаки Survived, Pclass, Sex, Embarked представленны без мусора, но с небольшими пропусками. Признак **Ticket** кроме нулевых значений имеет дубликаты, не соответствуюие классу признака - предпологается, что все билеты должны быть уникальны."
   ]
  },
  {
   "cell_type": "markdown",
   "id": "f2508b29",
   "metadata": {},
   "source": [
    "### 6. Проверка на выбросы"
   ]
  },
  {
   "cell_type": "code",
   "execution_count": 15,
   "id": "362b4359",
   "metadata": {
    "ExecuteTime": {
     "end_time": "2022-03-02T19:07:22.265925Z",
     "start_time": "2022-03-02T19:07:22.189130Z"
    }
   },
   "outputs": [
    {
     "data": {
      "text/html": [
       "<div>\n",
       "<style scoped>\n",
       "    .dataframe tbody tr th:only-of-type {\n",
       "        vertical-align: middle;\n",
       "    }\n",
       "\n",
       "    .dataframe tbody tr th {\n",
       "        vertical-align: top;\n",
       "    }\n",
       "\n",
       "    .dataframe thead th {\n",
       "        text-align: right;\n",
       "    }\n",
       "</style>\n",
       "<table border=\"1\" class=\"dataframe\">\n",
       "  <thead>\n",
       "    <tr style=\"text-align: right;\">\n",
       "      <th></th>\n",
       "      <th>Survived</th>\n",
       "      <th>Pclass</th>\n",
       "      <th>Age</th>\n",
       "      <th>SibSp</th>\n",
       "      <th>Parch</th>\n",
       "      <th>Fare</th>\n",
       "    </tr>\n",
       "  </thead>\n",
       "  <tbody>\n",
       "    <tr>\n",
       "      <th>count</th>\n",
       "      <td>100000.000000</td>\n",
       "      <td>100000.000000</td>\n",
       "      <td>96708.000000</td>\n",
       "      <td>100000.000000</td>\n",
       "      <td>100000.000000</td>\n",
       "      <td>99866.00000</td>\n",
       "    </tr>\n",
       "    <tr>\n",
       "      <th>mean</th>\n",
       "      <td>0.427740</td>\n",
       "      <td>2.106910</td>\n",
       "      <td>38.355472</td>\n",
       "      <td>0.397690</td>\n",
       "      <td>0.454560</td>\n",
       "      <td>43.92933</td>\n",
       "    </tr>\n",
       "    <tr>\n",
       "      <th>std</th>\n",
       "      <td>0.494753</td>\n",
       "      <td>0.837727</td>\n",
       "      <td>18.313556</td>\n",
       "      <td>0.862566</td>\n",
       "      <td>0.950076</td>\n",
       "      <td>69.58882</td>\n",
       "    </tr>\n",
       "    <tr>\n",
       "      <th>min</th>\n",
       "      <td>0.000000</td>\n",
       "      <td>1.000000</td>\n",
       "      <td>0.080000</td>\n",
       "      <td>0.000000</td>\n",
       "      <td>0.000000</td>\n",
       "      <td>0.68000</td>\n",
       "    </tr>\n",
       "    <tr>\n",
       "      <th>25%</th>\n",
       "      <td>0.000000</td>\n",
       "      <td>1.000000</td>\n",
       "      <td>25.000000</td>\n",
       "      <td>0.000000</td>\n",
       "      <td>0.000000</td>\n",
       "      <td>10.04000</td>\n",
       "    </tr>\n",
       "    <tr>\n",
       "      <th>50%</th>\n",
       "      <td>0.000000</td>\n",
       "      <td>2.000000</td>\n",
       "      <td>39.000000</td>\n",
       "      <td>0.000000</td>\n",
       "      <td>0.000000</td>\n",
       "      <td>24.46000</td>\n",
       "    </tr>\n",
       "    <tr>\n",
       "      <th>75%</th>\n",
       "      <td>1.000000</td>\n",
       "      <td>3.000000</td>\n",
       "      <td>53.000000</td>\n",
       "      <td>1.000000</td>\n",
       "      <td>1.000000</td>\n",
       "      <td>33.50000</td>\n",
       "    </tr>\n",
       "    <tr>\n",
       "      <th>max</th>\n",
       "      <td>1.000000</td>\n",
       "      <td>3.000000</td>\n",
       "      <td>87.000000</td>\n",
       "      <td>8.000000</td>\n",
       "      <td>9.000000</td>\n",
       "      <td>744.66000</td>\n",
       "    </tr>\n",
       "  </tbody>\n",
       "</table>\n",
       "</div>"
      ],
      "text/plain": [
       "            Survived         Pclass           Age          SibSp  \\\n",
       "count  100000.000000  100000.000000  96708.000000  100000.000000   \n",
       "mean        0.427740       2.106910     38.355472       0.397690   \n",
       "std         0.494753       0.837727     18.313556       0.862566   \n",
       "min         0.000000       1.000000      0.080000       0.000000   \n",
       "25%         0.000000       1.000000     25.000000       0.000000   \n",
       "50%         0.000000       2.000000     39.000000       0.000000   \n",
       "75%         1.000000       3.000000     53.000000       1.000000   \n",
       "max         1.000000       3.000000     87.000000       8.000000   \n",
       "\n",
       "               Parch         Fare  \n",
       "count  100000.000000  99866.00000  \n",
       "mean        0.454560     43.92933  \n",
       "std         0.950076     69.58882  \n",
       "min         0.000000      0.68000  \n",
       "25%         0.000000     10.04000  \n",
       "50%         0.000000     24.46000  \n",
       "75%         1.000000     33.50000  \n",
       "max         9.000000    744.66000  "
      ]
     },
     "execution_count": 15,
     "metadata": {},
     "output_type": "execute_result"
    }
   ],
   "source": [
    "df.describe()"
   ]
  },
  {
   "cell_type": "code",
   "execution_count": 16,
   "id": "5753b918",
   "metadata": {
    "ExecuteTime": {
     "end_time": "2022-03-02T19:07:22.438140Z",
     "start_time": "2022-03-02T19:07:22.267919Z"
    }
   },
   "outputs": [
    {
     "data": {
      "text/plain": [
       "<AxesSubplot:>"
      ]
     },
     "execution_count": 16,
     "metadata": {},
     "output_type": "execute_result"
    },
    {
     "data": {
      "image/png": "[encoded data removed]",
      "text/plain": [
       "<Figure size 1008x432 with 1 Axes>"
      ]
     },
     "metadata": {
      "needs_background": "light"
     },
     "output_type": "display_data"
    }
   ],
   "source": [
    "plt.figure(figsize=(14,6))\n",
    "sns.boxplot(orient='h', data=df.Fare)"
   ]
  },
  {
   "cell_type": "markdown",
   "id": "2d8decd2",
   "metadata": {},
   "source": [
    "Значения **Fare** возможно имеют выбросы, так как 75 процентиль для него равняется 33.5, а max значение - 744.66.\n",
    "Однако, это можно связать с тем, что цена может быть связана с благосостоянием человека, а следовательно и более дорогие каюты могло себе позволить меньшенство."
   ]
  },
  {
   "cell_type": "code",
   "execution_count": 46,
   "id": "a267edae",
   "metadata": {
    "ExecuteTime": {
     "end_time": "2022-03-02T20:23:31.162939Z",
     "start_time": "2022-03-02T20:23:30.937605Z"
    }
   },
   "outputs": [
    {
     "data": {
      "text/plain": [
       "<AxesSubplot:>"
      ]
     },
     "execution_count": 46,
     "metadata": {},
     "output_type": "execute_result"
    },
    {
     "data": {
      "image/png": "[encoded data removed]",
      "text/plain": [
       "<Figure size 720x360 with 1 Axes>"
      ]
     },
     "metadata": {
      "needs_background": "light"
     },
     "output_type": "display_data"
    }
   ],
   "source": [
    "df.Age.hist(bins=87, figsize=(10, 5))"
   ]
  },
  {
   "cell_type": "markdown",
   "id": "5408eca5",
   "metadata": {},
   "source": [
    "# Data exploration"
   ]
  },
  {
   "cell_type": "markdown",
   "id": "8f7f5c18",
   "metadata": {},
   "source": [
    "### 1. Exploration of each individual variable"
   ]
  },
  {
   "cell_type": "code",
   "execution_count": 61,
   "id": "e39ef04d",
   "metadata": {
    "ExecuteTime": {
     "end_time": "2022-03-02T20:38:15.234954Z",
     "start_time": "2022-03-02T20:38:14.980127Z"
    },
    "scrolled": true
   },
   "outputs": [
    {
     "name": "stdout",
     "output_type": "stream",
     "text": [
      "Column name: Survived \n",
      " count    100000.000000\n",
      "mean          0.427740\n",
      "std           0.494753\n",
      "min           0.000000\n",
      "25%           0.000000\n",
      "50%           0.000000\n",
      "75%           1.000000\n",
      "max           1.000000\n",
      "Name: Survived, dtype: float64 \n",
      "\n",
      "Unique values: [1 0] \n",
      "\n",
      "\n",
      "Column name: Pclass \n",
      " count    100000.000000\n",
      "mean          2.106910\n",
      "std           0.837727\n",
      "min           1.000000\n",
      "25%           1.000000\n",
      "50%           2.000000\n",
      "75%           3.000000\n",
      "max           3.000000\n",
      "Name: Pclass, dtype: float64 \n",
      "\n",
      "Unique values: [1 3 2] \n",
      "\n",
      "\n",
      "Column name: Name \n",
      " count            100000\n",
      "unique            92144\n",
      "top       Johnson, John\n",
      "freq                 31\n",
      "Name: Name, dtype: object \n",
      "\n",
      "Unique values: ['Oconnor, Frankie' 'Bryan, Drew' 'Owens, Kenneth' ...\n",
      " 'Childress, Charles' 'Caughlin, Thomas' 'Enciso, Tyler'] \n",
      "\n",
      "\n",
      "Column name: Sex \n",
      " count     100000\n",
      "unique         2\n",
      "top         male\n",
      "freq       56114\n",
      "Name: Sex, dtype: object \n",
      "\n",
      "Unique values: ['male' 'female'] \n",
      "\n",
      "\n",
      "Column name: Age \n",
      " count    96708.000000\n",
      "mean        38.355472\n",
      "std         18.313556\n",
      "min          0.080000\n",
      "25%         25.000000\n",
      "50%         39.000000\n",
      "75%         53.000000\n",
      "max         87.000000\n",
      "Name: Age, dtype: float64 \n",
      "\n",
      "Unique values: [     nan 3.30e-01 1.90e+01 2.50e+01 3.50e+01 7.00e+00 6.00e+00 2.70e+01\n",
      " 6.60e+01 3.10e+01 6.00e+01 3.60e+01 5.00e+01 4.40e+01 5.70e+01 5.30e+01\n",
      " 4.30e+01 6.10e+01 1.70e+01 3.90e+01 5.90e+01 2.30e+01 2.10e+01 2.60e+01\n",
      " 5.00e+00 6.70e+01 5.40e+01 6.90e+01 2.20e+01 6.80e+01 7.10e+01 6.30e+01\n",
      " 4.70e+01 4.50e+01 3.40e+01 3.00e+00 2.80e+01 3.70e+01 6.40e+01 5.80e+01\n",
      " 5.60e+01 4.00e+01 3.80e+01 2.00e+01 8.00e+00 7.00e+01 1.10e+01 4.90e+01\n",
      " 5.20e+01 4.80e+01 4.10e+01 3.20e+01 6.20e+01 5.50e+01 6.50e+01 4.60e+01\n",
      " 2.00e+00 4.20e+01 2.90e+01 5.10e+01 1.40e+01 2.40e+01 3.00e+01 3.30e+01\n",
      " 1.80e+01 7.90e+01 1.20e+01 9.00e+00 8.30e-01 1.00e+00 1.50e+01 5.00e-01\n",
      " 1.00e+01 7.20e+01 2.45e+01 7.70e+01 7.30e+01 4.00e+00 7.50e-01 1.60e+01\n",
      " 8.00e+01 1.30e+01 7.40e+01 2.65e+01 5.45e+01 7.50e+01 3.65e+01 7.60e+01\n",
      " 9.20e-01 4.25e+01 8.00e-02 4.20e-01 4.95e+01 2.25e+01 1.25e+01 7.55e+01\n",
      " 8.10e+01 2.35e+01 2.75e+01 7.80e+01 1.35e+01 6.70e-01 4.35e+01 2.50e-01\n",
      " 5.80e-01 5.75e+01 2.95e+01 5.95e+01 8.40e+01 3.95e+01 6.50e+00 7.85e+01\n",
      " 4.55e+01 2.55e+01 3.50e+00 1.70e-01 3.85e+01 6.05e+01 5.65e+01 2.05e+01\n",
      " 6.25e+01 3.05e+01 5.25e+01 4.45e+01 5.35e+01 5.85e+01 4.15e+01 9.50e+00\n",
      " 2.50e+00 3.25e+01 3.75e+01 1.85e+01 4.85e+01 7.50e+00 7.25e+01 4.65e+01\n",
      " 5.15e+01 7.15e+01 7.45e+01 2.15e+01 8.30e+01 5.05e+01 6.55e+01 1.05e+01\n",
      " 1.65e+01 8.05e+01 8.50e+01 1.15e+01 6.15e+01 4.05e+01 8.20e+01 3.15e+01\n",
      " 2.85e+01 6.35e+01 3.35e+01 7.05e+01 6.85e+01 6.65e+01 6.75e+01 5.55e+01\n",
      " 1.50e+00 3.55e+01 1.95e+01 6.95e+01 3.45e+01 8.50e+00 1.45e+01 4.50e+00\n",
      " 5.50e+00 7.35e+01 1.55e+01 4.75e+01 8.70e+01 8.60e+01] \n",
      "\n",
      "\n",
      "Column name: SibSp \n",
      " count    100000.000000\n",
      "mean          0.397690\n",
      "std           0.862566\n",
      "min           0.000000\n",
      "25%           0.000000\n",
      "50%           0.000000\n",
      "75%           1.000000\n",
      "max           8.000000\n",
      "Name: SibSp, dtype: float64 \n",
      "\n",
      "Unique values: [2 0 1 3 4 8 5] \n",
      "\n",
      "\n",
      "Column name: Parch \n",
      " count    100000.000000\n",
      "mean          0.454560\n",
      "std           0.950076\n",
      "min           0.000000\n",
      "25%           0.000000\n",
      "50%           0.000000\n",
      "75%           1.000000\n",
      "max           9.000000\n",
      "Name: Parch, dtype: float64 \n",
      "\n",
      "Unique values: [0 2 1 4 3 5 6 9] \n",
      "\n",
      "\n",
      "Column name: Ticket \n",
      " count     95377\n",
      "unique    75331\n",
      "top        A/5 \n",
      "freq        602\n",
      "Name: Ticket, dtype: object \n",
      "\n",
      "Unique values: ['209245' '27323' 'CA 457703' ... 'PC 15008' '458654' '458074'] \n",
      "\n",
      "\n",
      "Column name: Fare \n",
      " count    99866.00000\n",
      "mean        43.92933\n",
      "std         69.58882\n",
      "min          0.68000\n",
      "25%         10.04000\n",
      "50%         24.46000\n",
      "75%         33.50000\n",
      "max        744.66000\n",
      "Name: Fare, dtype: float64 \n",
      "\n",
      "Unique values: [ 27.14  13.35  71.29 ... 246.1  225.51   4.06] \n",
      "\n",
      "\n",
      "Column name: Cabin \n",
      " count      32134\n",
      "unique     26992\n",
      "top       C19828\n",
      "freq           6\n",
      "Name: Cabin, dtype: object \n",
      "\n",
      "Unique values: ['C12239' nan 'A7253' ... 'D12975' 'F12072' 'D17243'] \n",
      "\n",
      "\n",
      "Column name: Embarked \n",
      " count     99750\n",
      "unique        3\n",
      "top           S\n",
      "freq      72139\n",
      "Name: Embarked, dtype: object \n",
      "\n",
      "Unique values: ['S' 'C' 'Q' nan] \n",
      "\n",
      "\n",
      "Column name: Age_group \n",
      " count    96708.000000\n",
      "mean        38.355472\n",
      "std         18.313556\n",
      "min          0.080000\n",
      "25%         25.000000\n",
      "50%         39.000000\n",
      "75%         53.000000\n",
      "max         87.000000\n",
      "Name: Age_group, dtype: float64 \n",
      "\n",
      "Unique values: [     nan 3.30e-01 1.90e+01 2.50e+01 3.50e+01 7.00e+00 6.00e+00 2.70e+01\n",
      " 6.60e+01 3.10e+01 6.00e+01 3.60e+01 5.00e+01 4.40e+01 5.70e+01 5.30e+01\n",
      " 4.30e+01 6.10e+01 1.70e+01 3.90e+01 5.90e+01 2.30e+01 2.10e+01 2.60e+01\n",
      " 5.00e+00 6.70e+01 5.40e+01 6.90e+01 2.20e+01 6.80e+01 7.10e+01 6.30e+01\n",
      " 4.70e+01 4.50e+01 3.40e+01 3.00e+00 2.80e+01 3.70e+01 6.40e+01 5.80e+01\n",
      " 5.60e+01 4.00e+01 3.80e+01 2.00e+01 8.00e+00 7.00e+01 1.10e+01 4.90e+01\n",
      " 5.20e+01 4.80e+01 4.10e+01 3.20e+01 6.20e+01 5.50e+01 6.50e+01 4.60e+01\n",
      " 2.00e+00 4.20e+01 2.90e+01 5.10e+01 1.40e+01 2.40e+01 3.00e+01 3.30e+01\n",
      " 1.80e+01 7.90e+01 1.20e+01 9.00e+00 8.30e-01 1.00e+00 1.50e+01 5.00e-01\n",
      " 1.00e+01 7.20e+01 2.45e+01 7.70e+01 7.30e+01 4.00e+00 7.50e-01 1.60e+01\n",
      " 8.00e+01 1.30e+01 7.40e+01 2.65e+01 5.45e+01 7.50e+01 3.65e+01 7.60e+01\n",
      " 9.20e-01 4.25e+01 8.00e-02 4.20e-01 4.95e+01 2.25e+01 1.25e+01 7.55e+01\n",
      " 8.10e+01 2.35e+01 2.75e+01 7.80e+01 1.35e+01 6.70e-01 4.35e+01 2.50e-01\n",
      " 5.80e-01 5.75e+01 2.95e+01 5.95e+01 8.40e+01 3.95e+01 6.50e+00 7.85e+01\n",
      " 4.55e+01 2.55e+01 3.50e+00 1.70e-01 3.85e+01 6.05e+01 5.65e+01 2.05e+01\n",
      " 6.25e+01 3.05e+01 5.25e+01 4.45e+01 5.35e+01 5.85e+01 4.15e+01 9.50e+00\n",
      " 2.50e+00 3.25e+01 3.75e+01 1.85e+01 4.85e+01 7.50e+00 7.25e+01 4.65e+01\n",
      " 5.15e+01 7.15e+01 7.45e+01 2.15e+01 8.30e+01 5.05e+01 6.55e+01 1.05e+01\n",
      " 1.65e+01 8.05e+01 8.50e+01 1.15e+01 6.15e+01 4.05e+01 8.20e+01 3.15e+01\n",
      " 2.85e+01 6.35e+01 3.35e+01 7.05e+01 6.85e+01 6.65e+01 6.75e+01 5.55e+01\n",
      " 1.50e+00 3.55e+01 1.95e+01 6.95e+01 3.45e+01 8.50e+00 1.45e+01 4.50e+00\n",
      " 5.50e+00 7.35e+01 1.55e+01 4.75e+01 8.70e+01 8.60e+01] \n",
      "\n",
      "\n"
     ]
    }
   ],
   "source": [
    "for col in df.columns:\n",
    "    print(f'Column name: {col}','\\n', df[f'{col}'].describe(), '\\n\\nUnique values:', df[f'{col}'].unique(), '\\n\\n')"
   ]
  },
  {
   "cell_type": "markdown",
   "id": "15409712",
   "metadata": {},
   "source": [
    "### 2. Assessment of the relationship between each variable and the target variable"
   ]
  },
  {
   "cell_type": "markdown",
   "id": "3ec1bfd8",
   "metadata": {},
   "source": [
    "#### Relationship between Survived and Sex"
   ]
  },
  {
   "cell_type": "code",
   "execution_count": 73,
   "id": "9dfd730a",
   "metadata": {
    "ExecuteTime": {
     "end_time": "2022-03-02T21:01:04.743035Z",
     "start_time": "2022-03-02T21:01:04.590571Z"
    },
    "scrolled": false
   },
   "outputs": [
    {
     "data": {
      "text/plain": [
       "<AxesSubplot:xlabel='Survived', ylabel='count'>"
      ]
     },
     "execution_count": 73,
     "metadata": {},
     "output_type": "execute_result"
    },
    {
     "data": {
      "image/png": "[encoded data removed]",
      "text/plain": [
       "<Figure size 432x288 with 1 Axes>"
      ]
     },
     "metadata": {
      "needs_background": "light"
     },
     "output_type": "display_data"
    }
   ],
   "source": [
    "sns.countplot(x='Survived', hue='Sex', data=df)"
   ]
  },
  {
   "cell_type": "markdown",
   "id": "7d6e8b2b",
   "metadata": {},
   "source": [
    "#### Relationship between Survived and Age"
   ]
  },
  {
   "cell_type": "code",
   "execution_count": 76,
   "id": "eaef0e69",
   "metadata": {
    "ExecuteTime": {
     "end_time": "2022-03-02T21:01:19.207231Z",
     "start_time": "2022-03-02T21:01:19.085818Z"
    }
   },
   "outputs": [
    {
     "data": {
      "text/plain": [
       "<AxesSubplot:xlabel='Survived', ylabel='Age'>"
      ]
     },
     "execution_count": 76,
     "metadata": {},
     "output_type": "execute_result"
    },
    {
     "data": {
      "image/png": "[encoded data removed]",
      "text/plain": [
       "<Figure size 432x360 with 1 Axes>"
      ]
     },
     "metadata": {
      "needs_background": "light"
     },
     "output_type": "display_data"
    }
   ],
   "source": [
    "plt.figure(figsize=(6,5))\n",
    "sns.boxplot(data=df, x='Survived', y='Age')"
   ]
  },
  {
   "cell_type": "markdown",
   "id": "fa76e3e2",
   "metadata": {},
   "source": [
    "#### Разделим колонку Age на 3 категории: Child - до 16 лет, Adult - 16 <= Adult < 45, и Old - старше 45"
   ]
  },
  {
   "cell_type": "code",
   "execution_count": 36,
   "id": "a2b99372",
   "metadata": {
    "ExecuteTime": {
     "end_time": "2022-03-02T20:14:36.343210Z",
     "start_time": "2022-03-02T20:14:36.332241Z"
    }
   },
   "outputs": [],
   "source": [
    "df['Age_group'] = df['Age']"
   ]
  },
  {
   "cell_type": "code",
   "execution_count": 49,
   "id": "8465d974",
   "metadata": {
    "ExecuteTime": {
     "end_time": "2022-03-02T20:25:23.768752Z",
     "start_time": "2022-03-02T20:25:23.494526Z"
    },
    "scrolled": false
   },
   "outputs": [
    {
     "data": {
      "text/plain": [
       "<AxesSubplot:xlabel='Age_group', ylabel='count'>"
      ]
     },
     "execution_count": 49,
     "metadata": {},
     "output_type": "execute_result"
    },
    {
     "data": {
      "image/png": "[encoded data removed]",
      "text/plain": [
       "<Figure size 432x288 with 1 Axes>"
      ]
     },
     "metadata": {
      "needs_background": "light"
     },
     "output_type": "display_data"
    }
   ],
   "source": [
    "def age_group(x):\n",
    "    if x < 16:\n",
    "        return 'Child'\n",
    "    elif x < 45:\n",
    "        return 'Adult'\n",
    "    else: return 'Old'\n",
    "df.Age_group.apply(lambda x: age_group(x))\n",
    "sns.countplot(hue='Survived', x=df.Age_group.apply(lambda x: age_group(x)), data=df)"
   ]
  },
  {
   "cell_type": "markdown",
   "id": "869e01d9",
   "metadata": {},
   "source": [
    "**Вывод:** Если ты взрослый, то выжить шансов практически в два раза меньше чем у детей или людей старшего поколения."
   ]
  },
  {
   "cell_type": "markdown",
   "id": "f48eaa81",
   "metadata": {},
   "source": [
    "#### Relationship between Survived and Pclass"
   ]
  },
  {
   "cell_type": "code",
   "execution_count": null,
   "id": "d54e333b",
   "metadata": {},
   "outputs": [],
   "source": []
  },
  {
   "cell_type": "markdown",
   "id": "a1386ca5",
   "metadata": {},
   "source": [
    "#### Relationship between Survived and SibSp"
   ]
  },
  {
   "cell_type": "markdown",
   "id": "e96fd988",
   "metadata": {},
   "source": [
    "#### Relationship between Survived and Parch"
   ]
  },
  {
   "cell_type": "markdown",
   "id": "c28ae649",
   "metadata": {},
   "source": [
    "#### Relationship between Survived and Fare"
   ]
  },
  {
   "cell_type": "markdown",
   "id": "762c9b11",
   "metadata": {},
   "source": [
    "#### Relationship between Survived and Embarked"
   ]
  },
  {
   "cell_type": "code",
   "execution_count": null,
   "id": "9c77cbb9",
   "metadata": {},
   "outputs": [],
   "source": []
  },
  {
   "cell_type": "code",
   "execution_count": null,
   "id": "5ab9a6ec",
   "metadata": {},
   "outputs": [],
   "source": []
  },
  {
   "cell_type": "code",
   "execution_count": null,
   "id": "7083859b",
   "metadata": {},
   "outputs": [],
   "source": []
  },
  {
   "cell_type": "code",
   "execution_count": null,
   "id": "9f5fd2be",
   "metadata": {},
   "outputs": [],
   "source": []
  },
  {
   "cell_type": "code",
   "execution_count": null,
   "id": "2417286d",
   "metadata": {},
   "outputs": [],
   "source": []
  },
  {
   "cell_type": "markdown",
   "id": "034945c8",
   "metadata": {},
   "source": [
    "# Summary"
   ]
  },
  {
   "cell_type": "code",
   "execution_count": null,
   "id": "72e3fb13",
   "metadata": {},
   "outputs": [],
   "source": []
  }
 ],
 "metadata": {
  "kernelspec": {
   "display_name": "Python 3 (ipykernel)",
   "language": "python",
   "name": "python3"
  },
  "language_info": {
   "codemirror_mode": {
    "name": "ipython",
    "version": 3
   },
   "file_extension": ".py",
   "mimetype": "text/x-python",
   "name": "python",
   "nbconvert_exporter": "python",
   "pygments_lexer": "ipython3",
   "version": "3.8.9"
  },
  "toc": {
   "base_numbering": 1,
   "nav_menu": {},
   "number_sections": true,
   "sideBar": true,
   "skip_h1_title": false,
   "title_cell": "Table of Contents",
   "title_sidebar": "Contents",
   "toc_cell": false,
   "toc_position": {},
   "toc_section_display": true,
   "toc_window_display": false
  }
 },
 "nbformat": 4,
 "nbformat_minor": 5
}
